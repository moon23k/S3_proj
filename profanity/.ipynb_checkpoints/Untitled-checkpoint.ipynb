{
 "cells": [
  {
   "cell_type": "code",
   "execution_count": 1,
   "id": "accessible-prophet",
   "metadata": {},
   "outputs": [],
   "source": [
    "# Basic Settings\n",
    "\n",
    "import pandas as pd\n",
    "import numpy as np\n",
    "import matplotlib.pyplot as plt\n",
    "import seaborn as sns\n",
    "from IPython.display import display\n",
    "import warnings\n",
    "\n",
    "%matplotlib inline\n",
    "\n",
    "warnings.filterwarnings('ignore')"
   ]
  },
  {
   "cell_type": "code",
   "execution_count": 12,
   "id": "severe-wealth",
   "metadata": {},
   "outputs": [
    {
     "ename": "NameError",
     "evalue": "name 'OAuth1Session' is not defined",
     "output_type": "error",
     "traceback": [
      "\u001b[0;31m---------------------------------------------------------------------------\u001b[0m",
      "\u001b[0;31mNameError\u001b[0m                                 Traceback (most recent call last)",
      "\u001b[0;32m<ipython-input-12-0bf8de1bd9f6>\u001b[0m in \u001b[0;36m<module>\u001b[0;34m\u001b[0m\n\u001b[1;32m     21\u001b[0m \u001b[0;34m\u001b[0m\u001b[0m\n\u001b[1;32m     22\u001b[0m \u001b[0;34m\u001b[0m\u001b[0m\n\u001b[0;32m---> 23\u001b[0;31m twitter = OAuth1Session(api_key,\n\u001b[0m\u001b[1;32m     24\u001b[0m                         \u001b[0mclient_secret\u001b[0m\u001b[0;34m=\u001b[0m\u001b[0mapi_secret_key\u001b[0m\u001b[0;34m,\u001b[0m\u001b[0;34m\u001b[0m\u001b[0;34m\u001b[0m\u001b[0m\n\u001b[1;32m     25\u001b[0m                         \u001b[0mresource_owner_key\u001b[0m\u001b[0;34m=\u001b[0m\u001b[0maccess_token\u001b[0m\u001b[0;34m,\u001b[0m\u001b[0;34m\u001b[0m\u001b[0;34m\u001b[0m\u001b[0m\n",
      "\u001b[0;31mNameError\u001b[0m: name 'OAuth1Session' is not defined"
     ]
    }
   ],
   "source": [
    "import os\n",
    "import tweepy as tw\n",
    "import requests\n",
    "\n",
    "# basic settigns for tweepy\n",
    "'''\n",
    "consumer_key = 'MslsWzWgIGUPNc2iLHM3Kbmyi'\n",
    "consumer_secret = '2F91OX4ZEj8YnxjEURvaxI6ACPnjm1h0TCDreRxYkiapgTyeW3'\n",
    "access_token = '1372444419073351682-Cwh5Pzh8nC8YzxHGDiOK5MAuHjByx7'\n",
    "access_token_secret = '1fwg8XaNDCtTaT1yLwolRFaQzluhb6EHt7ZJGrs4AlrWN'\n",
    "\n",
    "auth = tw.OAuthHandler(consumer_key, consumer_secret)\n",
    "auth.set_access_token(access_token, access_token_secret)\n",
    "api = tw.API(auth, wait_on_rate_limit=True)\n",
    "'''\n",
    "\n",
    "api_key = 'MslsWzWgIGUPNc2iLHM3Kbmyi'\n",
    "api_secret_key = '2F91OX4ZEj8YnxjEURvaxI6ACPnjm1h0TCDreRxYkiapgTyeW3'\n",
    "access_token = '1372444419073351682-Cwh5Pzh8nC8YzxHGDiOK5MAuHjByx7'\n",
    "access_token_secret = '1fwg8XaNDCtTaT1yLwolRFaQzluhb6EHt7ZJGrs4AlrWN'\n",
    "\n",
    "\n",
    "twitter = OAuth1Session(api_key,\n",
    "                        client_secret=api_secret_key,\n",
    "                        resource_owner_key=access_token,\n",
    "                        resource_owner_secret=access_token_secret)\n",
    "\n",
    "auth = tw.OAuthHandler(api_key, api_secret_key)\n",
    "auth.set_access_token(access_token, access_token_secret)\n",
    "api = tw.API(auth, wait_on_rate_limit=True)"
   ]
  },
  {
   "cell_type": "code",
   "execution_count": 9,
   "id": "transsexual-subscriber",
   "metadata": {
    "tags": []
   },
   "outputs": [
    {
     "ename": "KeyError",
     "evalue": "'full_text'",
     "output_type": "error",
     "traceback": [
      "\u001b[0;31m---------------------------------------------------------------------------\u001b[0m",
      "\u001b[0;31mKeyError\u001b[0m                                  Traceback (most recent call last)",
      "\u001b[0;32m<ipython-input-9-e3cf6f2f3b6a>\u001b[0m in \u001b[0;36m<module>\u001b[0;34m\u001b[0m\n\u001b[1;32m     29\u001b[0m         \u001b[0;31m# Accessing to full_text is different between RT and normal tweet\u001b[0m\u001b[0;34m\u001b[0m\u001b[0;34m\u001b[0m\u001b[0;34m\u001b[0m\u001b[0m\n\u001b[1;32m     30\u001b[0m         \u001b[0;32mif\u001b[0m \u001b[0;34m'retweeted_status'\u001b[0m \u001b[0;32min\u001b[0m \u001b[0mtweet\u001b[0m\u001b[0;34m.\u001b[0m\u001b[0m_json\u001b[0m\u001b[0;34m:\u001b[0m  \u001b[0;31m# if it is a RT take full_text\u001b[0m\u001b[0;34m\u001b[0m\u001b[0;34m\u001b[0m\u001b[0m\n\u001b[0;32m---> 31\u001b[0;31m             \u001b[0mfull_text\u001b[0m \u001b[0;34m=\u001b[0m \u001b[0mtweet\u001b[0m\u001b[0;34m.\u001b[0m\u001b[0m_json\u001b[0m\u001b[0;34m[\u001b[0m\u001b[0;34m'retweeted_status'\u001b[0m\u001b[0;34m]\u001b[0m\u001b[0;34m[\u001b[0m\u001b[0;34m'full_text'\u001b[0m\u001b[0;34m]\u001b[0m\u001b[0;34m\u001b[0m\u001b[0;34m\u001b[0m\u001b[0m\n\u001b[0m\u001b[1;32m     32\u001b[0m         \u001b[0;32melse\u001b[0m\u001b[0;34m:\u001b[0m  \u001b[0;31m# if it is a normal tweet take the full_text\u001b[0m\u001b[0;34m\u001b[0m\u001b[0;34m\u001b[0m\u001b[0m\n\u001b[1;32m     33\u001b[0m             \u001b[0mfull_text\u001b[0m \u001b[0;34m=\u001b[0m \u001b[0mtweet\u001b[0m\u001b[0;34m.\u001b[0m\u001b[0mfull_text\u001b[0m\u001b[0;34m\u001b[0m\u001b[0;34m\u001b[0m\u001b[0m\n",
      "\u001b[0;31mKeyError\u001b[0m: 'full_text'"
     ]
    }
   ],
   "source": [
    "# collect tweets\n",
    "import datetime\n",
    "\n",
    "search_words = 'Biden'\n",
    "search_cnt = 10\n",
    "\n",
    "# setting datetime\n",
    "today = datetime.datetime.now()\n",
    "today = today.replace(hour=23, minute=59, second=59, microsecond=999999) # set from the beggining of the day\n",
    "time_to_the_past = 1 # 1 because we want 1 day before today\n",
    "yesterday = today - datetime.timedelta(time_to_the_past) \n",
    "next_day = yesterday + datetime.timedelta(time_to_the_past) # equivalent to today\n",
    "\n",
    "\n",
    "\n",
    "tweets = tw.Cursor(api.search,\n",
    "                  q=search_words,\n",
    "                  lang=\"en\",\n",
    "                  until = next_day.date(),\n",
    "                  since=date_since).items(search_cnt)\n",
    "\n",
    "\n",
    "# Extracting desired information from each tweet\n",
    "tweets_list = []\n",
    "\n",
    "for tweet in tweets:\n",
    "    # Filtering by date\n",
    "    if  yesterday.date() == tweet.created_at.date(): # here we take only tweets from the same date as yesterday in format YYYY-MM-DD\n",
    "        # Accessing to full_text is different between RT and normal tweet\n",
    "        if 'retweeted_status' in tweet._json:  # if it is a RT take full_text\n",
    "            full_text = tweet._json['retweeted_status']['full_text']\n",
    "        else:  # if it is a normal tweet take the full_text\n",
    "            full_text = tweet.full_text\n",
    "\n",
    "        tweets_list.append([tweet.user.screen_name,\n",
    "                             tweet.id,\n",
    "                             full_text,\n",
    "                             str(tweet.created_at.date()),\n",
    "                             tweet.user.location,\n",
    "                             tweet.user.url,\n",
    "                             tweet.entities\n",
    "                             ])\n",
    "\n",
    "        \n",
    "tweets_df = pd.DataFrame(tweets_list)"
   ]
  },
  {
   "cell_type": "code",
   "execution_count": 7,
   "id": "impaired-characteristic",
   "metadata": {},
   "outputs": [
    {
     "data": {
      "text/html": [
       "<div>\n",
       "<style scoped>\n",
       "    .dataframe tbody tr th:only-of-type {\n",
       "        vertical-align: middle;\n",
       "    }\n",
       "\n",
       "    .dataframe tbody tr th {\n",
       "        vertical-align: top;\n",
       "    }\n",
       "\n",
       "    .dataframe thead th {\n",
       "        text-align: right;\n",
       "    }\n",
       "</style>\n",
       "<table border=\"1\" class=\"dataframe\">\n",
       "  <thead>\n",
       "    <tr style=\"text-align: right;\">\n",
       "      <th></th>\n",
       "    </tr>\n",
       "  </thead>\n",
       "  <tbody>\n",
       "  </tbody>\n",
       "</table>\n",
       "</div>"
      ],
      "text/plain": [
       "Empty DataFrame\n",
       "Columns: []\n",
       "Index: []"
      ]
     },
     "metadata": {},
     "output_type": "display_data"
    }
   ],
   "source": [
    "display(tweets_df)"
   ]
  },
  {
   "cell_type": "code",
   "execution_count": null,
   "id": "difficult-category",
   "metadata": {},
   "outputs": [],
   "source": [
    "tweets = tw.Cursor(api.search,\n",
    "                  q=search_words,\n",
    "                  lang=\"en\",\n",
    "                  until = next_day.date(),\n",
    "                  since=date_since).items(search_cnt)\n",
    "\n",
    "\n",
    "tweets_list = [[tweet.text, tweet.created_at, tweet.retweet_count, tweet.favorite_count] for tweet in tweets]\n",
    "tweets_df = pd.DataFrame(tweets_list) # , columns=['Tweet Text', 'Tweet Datetime', 'Retweets', 'Favorites']"
   ]
  }
 ],
 "metadata": {
  "kernelspec": {
   "display_name": "Python 3",
   "language": "python",
   "name": "python3"
  },
  "language_info": {
   "codemirror_mode": {
    "name": "ipython",
    "version": 3
   },
   "file_extension": ".py",
   "mimetype": "text/x-python",
   "name": "python",
   "nbconvert_exporter": "python",
   "pygments_lexer": "ipython3",
   "version": "3.8.8"
  }
 },
 "nbformat": 4,
 "nbformat_minor": 5
}
