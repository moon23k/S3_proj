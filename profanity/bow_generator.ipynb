{
 "cells": [
  {
   "cell_type": "code",
   "execution_count": 2,
   "id": "conventional-assembly",
   "metadata": {},
   "outputs": [],
   "source": [
    "# Basic Settings\n",
    "\n",
    "import pandas as pd\n",
    "import numpy as np\n",
    "import warnings\n",
    "import IPython.display\n",
    "import matplotlib.pyplot as plt\n",
    "import seaborn as sns\n",
    "import re\n",
    "\n",
    "%matplotlib inline\n",
    "warnings.filterwarnings('ignore')"
   ]
  },
  {
   "cell_type": "code",
   "execution_count": 3,
   "id": "advisory-frequency",
   "metadata": {},
   "outputs": [],
   "source": [
    "# load datasets\n",
    "\n",
    "# First Dataset : Tw text Dataset\n",
    "tw_df_origin = pd.read_csv('data/tw_data.csv')\n",
    "\n",
    "# Second Dataset : Wiki Pedia Dataset\n",
    "wiki_df_origin = pd.read_csv('data/wiki_train.csv').drop(columns='id')"
   ]
  },
  {
   "cell_type": "code",
   "execution_count": 4,
   "id": "quality-carry",
   "metadata": {},
   "outputs": [],
   "source": [
    "# pre-process for merging two DFs\n",
    "\n",
    "# Pre-processing TW_df\n",
    "tw_texts = tw_df_origin['tweet']\\\n",
    "            .map(lambda x : re.sub(r'.+! RT.', '', x).strip())\\\n",
    "            .to_frame().rename(columns={'tweet': 'text'})\n",
    "tw_labels = tw_df_origin['class']\\\n",
    "            .map(lambda x : 0 if x == 2 else 1)\\\n",
    "            .to_frame().rename(columns={'class':'label'})\n",
    "\n",
    "# Pre-processing Wiki_df\n",
    "wiki_texts = wiki_df_origin['comment_text']\\\n",
    "            .to_frame().rename(columns={'comment_text':'text'})\n",
    "wiki_labels = wiki_df_origin.iloc[:, 1:].sum(axis=1)\\\n",
    "            .map(lambda x : 1 if x > 0 else 0).to_frame()\\\n",
    "            .rename(columns={0:'label'})"
   ]
  },
  {
   "cell_type": "code",
   "execution_count": 5,
   "id": "appointed-bloom",
   "metadata": {},
   "outputs": [
    {
     "data": {
      "text/html": [
       "<div>\n",
       "<style scoped>\n",
       "    .dataframe tbody tr th:only-of-type {\n",
       "        vertical-align: middle;\n",
       "    }\n",
       "\n",
       "    .dataframe tbody tr th {\n",
       "        vertical-align: top;\n",
       "    }\n",
       "\n",
       "    .dataframe thead th {\n",
       "        text-align: right;\n",
       "    }\n",
       "</style>\n",
       "<table border=\"1\" class=\"dataframe\">\n",
       "  <thead>\n",
       "    <tr style=\"text-align: right;\">\n",
       "      <th></th>\n",
       "      <th>text</th>\n",
       "      <th>label</th>\n",
       "    </tr>\n",
       "  </thead>\n",
       "  <tbody>\n",
       "    <tr>\n",
       "      <th>0</th>\n",
       "      <td>@mayasolovely: As a woman you shouldn't compla...</td>\n",
       "      <td>0</td>\n",
       "    </tr>\n",
       "    <tr>\n",
       "      <th>1</th>\n",
       "      <td>@mleew17: boy dats cold...tyga dwn bad for cuf...</td>\n",
       "      <td>1</td>\n",
       "    </tr>\n",
       "    <tr>\n",
       "      <th>2</th>\n",
       "      <td>@80sbaby4life: You ever fuck a bitch and she s...</td>\n",
       "      <td>1</td>\n",
       "    </tr>\n",
       "    <tr>\n",
       "      <th>3</th>\n",
       "      <td>@C_G_Anderson: @viva_based she look like a tranny</td>\n",
       "      <td>1</td>\n",
       "    </tr>\n",
       "    <tr>\n",
       "      <th>4</th>\n",
       "      <td>@ShenikaRoberts: The shit you hear about me mi...</td>\n",
       "      <td>1</td>\n",
       "    </tr>\n",
       "  </tbody>\n",
       "</table>\n",
       "</div>"
      ],
      "text/plain": [
       "                                                text  label\n",
       "0  @mayasolovely: As a woman you shouldn't compla...      0\n",
       "1  @mleew17: boy dats cold...tyga dwn bad for cuf...      1\n",
       "2  @80sbaby4life: You ever fuck a bitch and she s...      1\n",
       "3  @C_G_Anderson: @viva_based she look like a tranny      1\n",
       "4  @ShenikaRoberts: The shit you hear about me mi...      1"
      ]
     },
     "metadata": {},
     "output_type": "display_data"
    },
    {
     "data": {
      "text/html": [
       "<div>\n",
       "<style scoped>\n",
       "    .dataframe tbody tr th:only-of-type {\n",
       "        vertical-align: middle;\n",
       "    }\n",
       "\n",
       "    .dataframe tbody tr th {\n",
       "        vertical-align: top;\n",
       "    }\n",
       "\n",
       "    .dataframe thead th {\n",
       "        text-align: right;\n",
       "    }\n",
       "</style>\n",
       "<table border=\"1\" class=\"dataframe\">\n",
       "  <thead>\n",
       "    <tr style=\"text-align: right;\">\n",
       "      <th></th>\n",
       "      <th>text</th>\n",
       "      <th>label</th>\n",
       "    </tr>\n",
       "  </thead>\n",
       "  <tbody>\n",
       "    <tr>\n",
       "      <th>0</th>\n",
       "      <td>Explanation\\nWhy the edits made under my usern...</td>\n",
       "      <td>0</td>\n",
       "    </tr>\n",
       "    <tr>\n",
       "      <th>1</th>\n",
       "      <td>D'aww! He matches this background colour I'm s...</td>\n",
       "      <td>0</td>\n",
       "    </tr>\n",
       "    <tr>\n",
       "      <th>2</th>\n",
       "      <td>Hey man, I'm really not trying to edit war. It...</td>\n",
       "      <td>0</td>\n",
       "    </tr>\n",
       "    <tr>\n",
       "      <th>3</th>\n",
       "      <td>\"\\nMore\\nI can't make any real suggestions on ...</td>\n",
       "      <td>0</td>\n",
       "    </tr>\n",
       "    <tr>\n",
       "      <th>4</th>\n",
       "      <td>You, sir, are my hero. Any chance you remember...</td>\n",
       "      <td>0</td>\n",
       "    </tr>\n",
       "  </tbody>\n",
       "</table>\n",
       "</div>"
      ],
      "text/plain": [
       "                                                text  label\n",
       "0  Explanation\\nWhy the edits made under my usern...      0\n",
       "1  D'aww! He matches this background colour I'm s...      0\n",
       "2  Hey man, I'm really not trying to edit war. It...      0\n",
       "3  \"\\nMore\\nI can't make any real suggestions on ...      0\n",
       "4  You, sir, are my hero. Any chance you remember...      0"
      ]
     },
     "metadata": {},
     "output_type": "display_data"
    }
   ],
   "source": [
    "# Merging Two DFs\n",
    "\n",
    "tw_df = pd.concat([tw_texts, tw_labels], axis=1)\n",
    "wiki_df = pd.concat([wiki_texts, wiki_labels], axis=1)\n",
    "\n",
    "display(tw_df.head())\n",
    "display(wiki_df.head())"
   ]
  },
  {
   "cell_type": "code",
   "execution_count": 6,
   "id": "norman-belief",
   "metadata": {},
   "outputs": [],
   "source": [
    "text_df = pd.concat([wiki_df, tw_df]).drop(columns='label')\n",
    "label_df = pd.concat([wiki_df, tw_df]).drop(columns='text')"
   ]
  },
  {
   "cell_type": "code",
   "execution_count": 7,
   "id": "provincial-german",
   "metadata": {},
   "outputs": [
    {
     "data": {
      "text/html": [
       "<div>\n",
       "<style scoped>\n",
       "    .dataframe tbody tr th:only-of-type {\n",
       "        vertical-align: middle;\n",
       "    }\n",
       "\n",
       "    .dataframe tbody tr th {\n",
       "        vertical-align: top;\n",
       "    }\n",
       "\n",
       "    .dataframe thead th {\n",
       "        text-align: right;\n",
       "    }\n",
       "</style>\n",
       "<table border=\"1\" class=\"dataframe\">\n",
       "  <thead>\n",
       "    <tr style=\"text-align: right;\">\n",
       "      <th></th>\n",
       "      <th>text</th>\n",
       "    </tr>\n",
       "  </thead>\n",
       "  <tbody>\n",
       "    <tr>\n",
       "      <th>0</th>\n",
       "      <td>[explanation, edits, made, username, hardcore,...</td>\n",
       "    </tr>\n",
       "    <tr>\n",
       "      <th>1</th>\n",
       "      <td>[aww, match, background, colour, seemingly, st...</td>\n",
       "    </tr>\n",
       "    <tr>\n",
       "      <th>2</th>\n",
       "      <td>[hey, man, really, trying, edit, war, guy, con...</td>\n",
       "    </tr>\n",
       "    <tr>\n",
       "      <th>3</th>\n",
       "      <td>[make, real, suggestion, improvement, wondered...</td>\n",
       "    </tr>\n",
       "    <tr>\n",
       "      <th>4</th>\n",
       "      <td>[sir, hero, chance, remember, page]</td>\n",
       "    </tr>\n",
       "    <tr>\n",
       "      <th>...</th>\n",
       "      <td>...</td>\n",
       "    </tr>\n",
       "    <tr>\n",
       "      <th>24778</th>\n",
       "      <td>[muthaf, lie, lifeasking, pearl, corey, emanue...</td>\n",
       "    </tr>\n",
       "    <tr>\n",
       "      <th>24779</th>\n",
       "      <td>[gone, broke, wrong, heart, baby, drove, redne...</td>\n",
       "    </tr>\n",
       "    <tr>\n",
       "      <th>24780</th>\n",
       "      <td>[young, buck, wanna, eat, dat, nigguh, like, a...</td>\n",
       "    </tr>\n",
       "    <tr>\n",
       "      <th>24781</th>\n",
       "      <td>[youu, got, wild, bitch, tellin, lie]</td>\n",
       "    </tr>\n",
       "    <tr>\n",
       "      <th>24782</th>\n",
       "      <td>[ruffled, ntac, eileen, dahlia, beautiful, col...</td>\n",
       "    </tr>\n",
       "  </tbody>\n",
       "</table>\n",
       "<p>184354 rows × 1 columns</p>\n",
       "</div>"
      ],
      "text/plain": [
       "                                                    text\n",
       "0      [explanation, edits, made, username, hardcore,...\n",
       "1      [aww, match, background, colour, seemingly, st...\n",
       "2      [hey, man, really, trying, edit, war, guy, con...\n",
       "3      [make, real, suggestion, improvement, wondered...\n",
       "4                    [sir, hero, chance, remember, page]\n",
       "...                                                  ...\n",
       "24778  [muthaf, lie, lifeasking, pearl, corey, emanue...\n",
       "24779  [gone, broke, wrong, heart, baby, drove, redne...\n",
       "24780  [young, buck, wanna, eat, dat, nigguh, like, a...\n",
       "24781              [youu, got, wild, bitch, tellin, lie]\n",
       "24782  [ruffled, ntac, eileen, dahlia, beautiful, col...\n",
       "\n",
       "[184354 rows x 1 columns]"
      ]
     },
     "execution_count": 7,
     "metadata": {},
     "output_type": "execute_result"
    }
   ],
   "source": [
    "from d_pre import tokenize\n",
    "\n",
    "token_words = tokenize(text_df)\n",
    "token_words"
   ]
  },
  {
   "cell_type": "code",
   "execution_count": 8,
   "id": "laughing-appointment",
   "metadata": {},
   "outputs": [],
   "source": [
    "w_df = pd.concat([token_words, label_df], axis=1)"
   ]
  },
  {
   "cell_type": "code",
   "execution_count": 9,
   "id": "removable-compiler",
   "metadata": {},
   "outputs": [],
   "source": [
    "# Train Test Split\n",
    "\n",
    "from sklearn.model_selection import train_test_split\n",
    "from sklearn.metrics import f1_score\n",
    "\n",
    "train_ratio = 0.70\n",
    "val_ratio = 0.15\n",
    "test_ratio = 0.15\n",
    "\n",
    "# Train Test Split\n",
    "X_train, X_test, y_train, y_test = train_test_split(w_df['text'], \n",
    "                                                    w_df['label'], \n",
    "                                                    test_size=1-train_ratio, \n",
    "                                                    stratify=w_df['label'], \n",
    "                                                    random_state=42)\n",
    "\n",
    "# Validation Test Split\n",
    "X_val, X_test, y_val, y_test = train_test_split(X_test, \n",
    "                                                y_test, \n",
    "                                                test_size=test_ratio / (test_ratio + val_ratio), \n",
    "                                                stratify=y_test, \n",
    "                                                random_state=42)"
   ]
  },
  {
   "cell_type": "code",
   "execution_count": 32,
   "id": "accomplished-russian",
   "metadata": {},
   "outputs": [],
   "source": [
    "# Train Test Split\n",
    "\n",
    "from sklearn.model_selection import train_test_split\n",
    "from sklearn.metrics import f1_score\n",
    "\n",
    "\n",
    "# Train Test Split\n",
    "X_train, X_test, y_train, y_test = train_test_split(w_df['text'], \n",
    "                                                    w_df['label'], \n",
    "                                                    test_size=0.2, \n",
    "                                                    stratify=w_df['label'], \n",
    "                                                    random_state=42)"
   ]
  },
  {
   "cell_type": "code",
   "execution_count": 33,
   "id": "thick-beach",
   "metadata": {},
   "outputs": [],
   "source": [
    "from gensim.models import Word2Vec\n",
    "\n",
    "num_features = 100\n",
    "\n",
    "emb_model = Word2Vec(X_train, \n",
    "                     size=num_features, \n",
    "                     iter=100, \n",
    "                     window=10, \n",
    "                     min_count=300, \n",
    "                     seed=42,\n",
    "                     sample=1e-3, \n",
    "                     workers=-1, \n",
    "                     sg=1)\n",
    "\n",
    "emb_model.init_sims(replace=True)"
   ]
  },
  {
   "cell_type": "code",
   "execution_count": 34,
   "id": "authentic-relevance",
   "metadata": {},
   "outputs": [
    {
     "data": {
      "text/plain": [
       "'child'"
      ]
     },
     "execution_count": 34,
     "metadata": {},
     "output_type": "execute_result"
    }
   ],
   "source": [
    "emb_model.wv.doesnt_match('man woman child'.split())"
   ]
  },
  {
   "cell_type": "code",
   "execution_count": 35,
   "id": "greek-henry",
   "metadata": {
    "tags": []
   },
   "outputs": [],
   "source": [
    "\n",
    "target_word = 'english'\n",
    "similar_words = emb_model.most_similar(target_word, topn=10)"
   ]
  },
  {
   "cell_type": "code",
   "execution_count": 36,
   "id": "editorial-proposal",
   "metadata": {},
   "outputs": [
    {
     "data": {
      "text/plain": [
       "'de immediately animal negative manual new british dr abuse notable'"
      ]
     },
     "execution_count": 36,
     "metadata": {},
     "output_type": "execute_result"
    }
   ],
   "source": [
    "text = ' '.join([word[0] for word in similar_words])\n",
    "text"
   ]
  },
  {
   "cell_type": "code",
   "execution_count": 37,
   "id": "confused-wildlife",
   "metadata": {},
   "outputs": [],
   "source": [
    "from wordcloud import WordCloud, ImageColorGenerator\n",
    "\n",
    "wordcloud = WordCloud(max_font_size=40, background_color='white').generate(text)"
   ]
  },
  {
   "cell_type": "code",
   "execution_count": 31,
   "id": "obvious-tooth",
   "metadata": {},
   "outputs": [
    {
     "data": {
      "text/plain": [
       "<wordcloud.wordcloud.WordCloud at 0x7f8e9f6405b0>"
      ]
     },
     "execution_count": 31,
     "metadata": {},
     "output_type": "execute_result"
    }
   ],
   "source": [
    "wordcloud.to_file(\"first_test.png\")"
   ]
  },
  {
   "cell_type": "code",
   "execution_count": 38,
   "id": "closing-rehabilitation",
   "metadata": {},
   "outputs": [
    {
     "data": {
      "image/png": "[encoded data removed]",
      "text/plain": [
       "<Figure size 432x288 with 1 Axes>"
      ]
     },
     "metadata": {
      "needs_background": "light"
     },
     "output_type": "display_data"
    }
   ],
   "source": [
    "plt.imshow(wordcloud, interpolation='bilinear')\n",
    "plt.axis(\"off\")\n",
    "plt.show()"
   ]
  },
  {
   "cell_type": "code",
   "execution_count": 40,
   "id": "controlling-cutting",
   "metadata": {},
   "outputs": [
    {
     "data": {
      "text/plain": [
       "['emb_model']"
      ]
     },
     "execution_count": 40,
     "metadata": {},
     "output_type": "execute_result"
    }
   ],
   "source": [
    "import joblib\n",
    "\n",
    "joblib.dump(emb_model, 'emb_model')"
   ]
  }
 ],
 "metadata": {
  "kernelspec": {
   "display_name": "Python 3",
   "language": "python",
   "name": "python3"
  },
  "language_info": {
   "codemirror_mode": {
    "name": "ipython",
    "version": 3
   },
   "file_extension": ".py",
   "mimetype": "text/x-python",
   "name": "python",
   "nbconvert_exporter": "python",
   "pygments_lexer": "ipython3",
   "version": "3.8.8"
  }
 },
 "nbformat": 4,
 "nbformat_minor": 5
}
