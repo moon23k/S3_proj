{
 "cells": [
  {
   "cell_type": "code",
   "execution_count": 1,
   "id": "proved-mortality",
   "metadata": {},
   "outputs": [],
   "source": [
    "# Basic Settings\n",
    "\n",
    "import pandas as pd\n",
    "import numpy as np\n",
    "import matplotlib.pyplot as plt\n",
    "import seaborn as sns\n",
    "from IPython.display import display\n",
    "import warnings\n",
    "\n",
    "%matplotlib inline\n",
    "\n",
    "warnings.filterwarnings('ignore')"
   ]
  },
  {
   "cell_type": "code",
   "execution_count": 2,
   "id": "numerical-burden",
   "metadata": {},
   "outputs": [],
   "source": [
    "import os\n",
    "import tweepy as tw\n",
    "from requests_oauthlib import OAuth1Session\n",
    "\n",
    "# basic settigns for tweepy\n",
    "'''\n",
    "consumer_key = 'MslsWzWgIGUPNc2iLHM3Kbmyi'\n",
    "consumer_secret = '2F91OX4ZEj8YnxjEURvaxI6ACPnjm1h0TCDreRxYkiapgTyeW3'\n",
    "access_token = '1372444419073351682-Cwh5Pzh8nC8YzxHGDiOK5MAuHjByx7'\n",
    "access_token_secret = '1fwg8XaNDCtTaT1yLwolRFaQzluhb6EHt7ZJGrs4AlrWN'\n",
    "\n",
    "auth = tw.OAuthHandler(consumer_key, consumer_secret)\n",
    "auth.set_access_token(access_token, access_token_secret)\n",
    "api = tw.API(auth, wait_on_rate_limit=True)\n",
    "'''\n",
    "\n",
    "api_key = 'MslsWzWgIGUPNc2iLHM3Kbmyi'\n",
    "api_secret_key = '2F91OX4ZEj8YnxjEURvaxI6ACPnjm1h0TCDreRxYkiapgTyeW3'\n",
    "access_token = '1372444419073351682-Cwh5Pzh8nC8YzxHGDiOK5MAuHjByx7'\n",
    "access_token_secret = '1fwg8XaNDCtTaT1yLwolRFaQzluhb6EHt7ZJGrs4AlrWN'\n",
    "\n",
    "\n",
    "twitter = OAuth1Session(api_key,\n",
    "                        client_secret=api_secret_key,\n",
    "                        resource_owner_key=access_token,\n",
    "                        resource_owner_secret=access_token_secret)\n",
    "\n",
    "auth = tw.OAuthHandler(api_key, api_secret_key)\n",
    "auth.set_access_token(access_token, access_token_secret)\n",
    "api = tw.API(auth, wait_on_rate_limit=True)"
   ]
  },
  {
   "cell_type": "code",
   "execution_count": 65,
   "id": "overall-television",
   "metadata": {
    "tags": []
   },
   "outputs": [],
   "source": [
    "# collect tweets\n",
    "import datetime\n",
    "import re\n",
    "\n",
    "search_words = 'BTS'\n",
    "search_cnt = 100\n",
    "\n",
    "# setting datetime\n",
    "today = datetime.datetime.now()\n",
    "today = today.replace(hour=23, minute=59, second=59, microsecond=999999) # set from the beggining of the day\n",
    "yesterday = today - datetime.timedelta(1) \n",
    "\n",
    "\n",
    "tweets = tw.Cursor(api.search,\n",
    "                   q=search_words,\n",
    "                   lang=\"en\",\n",
    "                   tweet_mode='extended',\n",
    "                   until = today.date() # format YYYY-MM-DD in datetime. Not string. Twitter only extract tweets before that date\n",
    "                   ).items(search_cnt)\n",
    "\n",
    "\n",
    "# Extracting desired information from each tweet\n",
    "tweets_list = []\n",
    "\n",
    "for tweet in tweets:\n",
    "    # Filtering by date\n",
    "    if  yesterday.date() == tweet.created_at.date(): # here we take only tweets from the same date as yesterday in format YYYY-MM-DD\n",
    "        # Accessing to full_text is different between RT and normal tweet\n",
    "        if 'retweeted_status' in tweet._json:  # if it is a RT take full_text\n",
    "            full_text = tweet._json['retweeted_status']['full_text']\n",
    "        else:  # if it is a normal tweet take the full_text\n",
    "            full_text = tweet.full_text\n",
    "        \n",
    "        tweets_list.append([tweet.id,\n",
    "                             tweet.user.screen_name,\n",
    "                             str(tweet.created_at.date()), \n",
    "                             #re.sub(r'@[A-Za-z0-9]*', '', full_text).strip(),\n",
    "                             full_text,\n",
    "                             tweet.user.location,\n",
    "                             tweet.retweet_count,\n",
    "                             ])\n",
    "\n",
    "\n",
    "tweets_df = pd.DataFrame(tweets_list, columns=['tweet_id', 'user_name', 'date', 'text', 'location', 'retweet_cnt'])"
   ]
  },
  {
   "cell_type": "code",
   "execution_count": 66,
   "id": "smooth-arnold",
   "metadata": {},
   "outputs": [
    {
     "data": {
      "text/html": [
       "<div>\n",
       "<style scoped>\n",
       "    .dataframe tbody tr th:only-of-type {\n",
       "        vertical-align: middle;\n",
       "    }\n",
       "\n",
       "    .dataframe tbody tr th {\n",
       "        vertical-align: top;\n",
       "    }\n",
       "\n",
       "    .dataframe thead th {\n",
       "        text-align: right;\n",
       "    }\n",
       "</style>\n",
       "<table border=\"1\" class=\"dataframe\">\n",
       "  <thead>\n",
       "    <tr style=\"text-align: right;\">\n",
       "      <th></th>\n",
       "      <th>tweet_id</th>\n",
       "      <th>user_name</th>\n",
       "      <th>date</th>\n",
       "      <th>text</th>\n",
       "      <th>location</th>\n",
       "      <th>retweet_cnt</th>\n",
       "    </tr>\n",
       "  </thead>\n",
       "  <tbody>\n",
       "    <tr>\n",
       "      <th>0</th>\n",
       "      <td>1376323213207158786</td>\n",
       "      <td>kathandkar2020</td>\n",
       "      <td>2021-03-28</td>\n",
       "      <td>I live for this #JUNGKOOK 😌😌😌😌\\n\\n#MTVHottest ...</td>\n",
       "      <td></td>\n",
       "      <td>0</td>\n",
       "    </tr>\n",
       "    <tr>\n",
       "      <th>1</th>\n",
       "      <td>1376323212653469696</td>\n",
       "      <td>vanggukkk</td>\n",
       "      <td>2021-03-28</td>\n",
       "      <td>@jintaejungkook @BTS_twt Philippines. Done 💜</td>\n",
       "      <td>18, she</td>\n",
       "      <td>0</td>\n",
       "    </tr>\n",
       "    <tr>\n",
       "      <th>2</th>\n",
       "      <td>1376323212103983105</td>\n",
       "      <td>loubly_</td>\n",
       "      <td>2021-03-28</td>\n",
       "      <td>Filter has surpassed 137 Million streams on Sp...</td>\n",
       "      <td>she/her</td>\n",
       "      <td>790</td>\n",
       "    </tr>\n",
       "    <tr>\n",
       "      <th>3</th>\n",
       "      <td>1376323211474968577</td>\n",
       "      <td>rayo_nora1</td>\n",
       "      <td>2021-03-28</td>\n",
       "      <td>bts are actually no jammers at heart https://t...</td>\n",
       "      <td>Warwick, RI</td>\n",
       "      <td>193</td>\n",
       "    </tr>\n",
       "    <tr>\n",
       "      <th>4</th>\n",
       "      <td>1376323211030192128</td>\n",
       "      <td>Forevverryoungg</td>\n",
       "      <td>2021-03-28</td>\n",
       "      <td>BTS announced that their Japanese album, ‘BTS,...</td>\n",
       "      <td>Santa Monica,CA</td>\n",
       "      <td>2551</td>\n",
       "    </tr>\n",
       "    <tr>\n",
       "      <th>...</th>\n",
       "      <td>...</td>\n",
       "      <td>...</td>\n",
       "      <td>...</td>\n",
       "      <td>...</td>\n",
       "      <td>...</td>\n",
       "      <td>...</td>\n",
       "    </tr>\n",
       "    <tr>\n",
       "      <th>95</th>\n",
       "      <td>1376323118571130880</td>\n",
       "      <td>illbethesea</td>\n",
       "      <td>2021-03-28</td>\n",
       "      <td>y’all gonna be mad at me but all of bts need t...</td>\n",
       "      <td>she/her</td>\n",
       "      <td>0</td>\n",
       "    </tr>\n",
       "    <tr>\n",
       "      <th>96</th>\n",
       "      <td>1376323116725571601</td>\n",
       "      <td>szhangqiu</td>\n",
       "      <td>2021-03-28</td>\n",
       "      <td>Mind full of this Jimin all the day.... JIMIN,...</td>\n",
       "      <td>THE GENRE IS BTS</td>\n",
       "      <td>0</td>\n",
       "    </tr>\n",
       "    <tr>\n",
       "      <th>97</th>\n",
       "      <td>1376323116490579970</td>\n",
       "      <td>taeggukxxxx</td>\n",
       "      <td>2021-03-28</td>\n",
       "      <td>INFO 📑|| BTS Official Twitter Account has surp...</td>\n",
       "      <td></td>\n",
       "      <td>152</td>\n",
       "    </tr>\n",
       "    <tr>\n",
       "      <th>98</th>\n",
       "      <td>1376323116293451778</td>\n",
       "      <td>hopejoondira</td>\n",
       "      <td>2021-03-28</td>\n",
       "      <td>@luvvmazee @BTS_twt Thankyou 💜💜</td>\n",
       "      <td>Bali, Indonesia</td>\n",
       "      <td>0</td>\n",
       "    </tr>\n",
       "    <tr>\n",
       "      <th>99</th>\n",
       "      <td>1376323115962228739</td>\n",
       "      <td>CurlyHobiron</td>\n",
       "      <td>2021-03-28</td>\n",
       "      <td>@youtkhinel @BTS_twt Hannah t amooooo 🥺🙈</td>\n",
       "      <td>Hope World</td>\n",
       "      <td>0</td>\n",
       "    </tr>\n",
       "  </tbody>\n",
       "</table>\n",
       "<p>100 rows × 6 columns</p>\n",
       "</div>"
      ],
      "text/plain": [
       "               tweet_id        user_name        date  \\\n",
       "0   1376323213207158786   kathandkar2020  2021-03-28   \n",
       "1   1376323212653469696        vanggukkk  2021-03-28   \n",
       "2   1376323212103983105          loubly_  2021-03-28   \n",
       "3   1376323211474968577       rayo_nora1  2021-03-28   \n",
       "4   1376323211030192128  Forevverryoungg  2021-03-28   \n",
       "..                  ...              ...         ...   \n",
       "95  1376323118571130880      illbethesea  2021-03-28   \n",
       "96  1376323116725571601        szhangqiu  2021-03-28   \n",
       "97  1376323116490579970      taeggukxxxx  2021-03-28   \n",
       "98  1376323116293451778     hopejoondira  2021-03-28   \n",
       "99  1376323115962228739     CurlyHobiron  2021-03-28   \n",
       "\n",
       "                                                 text          location  \\\n",
       "0   I live for this #JUNGKOOK 😌😌😌😌\\n\\n#MTVHottest ...                     \n",
       "1        @jintaejungkook @BTS_twt Philippines. Done 💜          18, she    \n",
       "2   Filter has surpassed 137 Million streams on Sp...           she/her   \n",
       "3   bts are actually no jammers at heart https://t...       Warwick, RI   \n",
       "4   BTS announced that their Japanese album, ‘BTS,...   Santa Monica,CA   \n",
       "..                                                ...               ...   \n",
       "95  y’all gonna be mad at me but all of bts need t...           she/her   \n",
       "96  Mind full of this Jimin all the day.... JIMIN,...  THE GENRE IS BTS   \n",
       "97  INFO 📑|| BTS Official Twitter Account has surp...                     \n",
       "98                    @luvvmazee @BTS_twt Thankyou 💜💜   Bali, Indonesia   \n",
       "99           @youtkhinel @BTS_twt Hannah t amooooo 🥺🙈        Hope World   \n",
       "\n",
       "    retweet_cnt  \n",
       "0             0  \n",
       "1             0  \n",
       "2           790  \n",
       "3           193  \n",
       "4          2551  \n",
       "..          ...  \n",
       "95            0  \n",
       "96            0  \n",
       "97          152  \n",
       "98            0  \n",
       "99            0  \n",
       "\n",
       "[100 rows x 6 columns]"
      ]
     },
     "metadata": {},
     "output_type": "display_data"
    }
   ],
   "source": [
    "display(tweets_df)"
   ]
  },
  {
   "cell_type": "code",
   "execution_count": 64,
   "id": "biblical-metro",
   "metadata": {},
   "outputs": [
    {
     "data": {
      "text/plain": [
       "'bts are actually no jammers at heart https://t.co/UFWY8NdBBw'"
      ]
     },
     "execution_count": 64,
     "metadata": {},
     "output_type": "execute_result"
    }
   ],
   "source": [
    "tweets_df['text'][3]"
   ]
  },
  {
   "cell_type": "code",
   "execution_count": 55,
   "id": "essential-palace",
   "metadata": {},
   "outputs": [
    {
     "data": {
      "text/plain": [
       "\"It should be noted that Ontario hasn't once run out of vaccine in 2021 &amp; provincial freezer have half a million doses sitting not in people's arms. Ont. has now gone 9 consecutive weeks with more vaccine in the freezers at the end of the week that they had at the beginning.\""
      ]
     },
     "execution_count": 55,
     "metadata": {},
     "output_type": "execute_result"
    }
   ],
   "source": [
    "re.sub(r'@[A-Za-z0-9]*', '', test).strip()"
   ]
  },
  {
   "cell_type": "code",
   "execution_count": 16,
   "id": "reliable-moral",
   "metadata": {},
   "outputs": [
    {
     "name": "stdout",
     "output_type": "stream",
     "text": [
      "2021-03-29\n",
      "2021-03-29 23:59:59.999999\n"
     ]
    }
   ],
   "source": [
    "print(today.date())\n",
    "print(next_day)"
   ]
  },
  {
   "cell_type": "code",
   "execution_count": 67,
   "id": "optical-domestic",
   "metadata": {},
   "outputs": [
    {
     "name": "stdout",
     "output_type": "stream",
     "text": [
      "<class 'datetime.date'>\n"
     ]
    }
   ],
   "source": [
    "print(type(today.date()))"
   ]
  },
  {
   "cell_type": "code",
   "execution_count": null,
   "id": "genuine-dining",
   "metadata": {},
   "outputs": [],
   "source": [
    "tweets = tw.Cursor(api.search,\n",
    "                  q=search_words,\n",
    "                  lang=\"en\",\n",
    "                  until = next_day.date(),\n",
    "                  since=date_since).items(search_cnt)\n",
    "\n",
    "\n",
    "tweets_list = [[tweet.text, tweet.created_at, tweet.retweet_count, tweet.favorite_count] for tweet in tweets]\n",
    "tweets_df = pd.DataFrame(tweets_list) # , columns=['Tweet Text', 'Tweet Datetime', 'Retweets', 'Favorites']"
   ]
  }
 ],
 "metadata": {
  "kernelspec": {
   "display_name": "Python 3",
   "language": "python",
   "name": "python3"
  },
  "language_info": {
   "codemirror_mode": {
    "name": "ipython",
    "version": 3
   },
   "file_extension": ".py",
   "mimetype": "text/x-python",
   "name": "python",
   "nbconvert_exporter": "python",
   "pygments_lexer": "ipython3",
   "version": "3.8.8"
  }
 },
 "nbformat": 4,
 "nbformat_minor": 5
}
