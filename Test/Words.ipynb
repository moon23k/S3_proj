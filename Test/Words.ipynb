{
 "cells": [
  {
   "cell_type": "code",
   "execution_count": 3,
   "id": "historical-trustee",
   "metadata": {},
   "outputs": [],
   "source": [
    "# Basic Settings\n",
    "\n",
    "import pandas as pd\n",
    "import numpy as np\n",
    "import matplotlib.pyplot as plt\n",
    "import seaborn as sns\n",
    "from IPython.display import display\n",
    "import warnings\n",
    "\n",
    "%matplotlib inline\n",
    "\n",
    "warnings.filterwarnings('ignore')"
   ]
  },
  {
   "cell_type": "code",
   "execution_count": null,
   "id": "italic-portuguese",
   "metadata": {},
   "outputs": [],
   "source": [
    "# load data\n",
    "\n"
   ]
  },
  {
   "cell_type": "code",
   "execution_count": null,
   "id": "instrumental-assessment",
   "metadata": {},
   "outputs": [],
   "source": [
    "# test gensim\n",
    "\n",
    "from gensim.models import Word2Vec\n"
   ]
  },
  {
   "cell_type": "code",
   "execution_count": 4,
   "id": "graduate-parts",
   "metadata": {},
   "outputs": [],
   "source": [
    "import os\n",
    "import tweepy as tw\n",
    "\n",
    "# basic settigns for tweepy\n",
    "consumer_key = 'MslsWzWgIGUPNc2iLHM3Kbmyi'\n",
    "consumer_secret = '2F91OX4ZEj8YnxjEURvaxI6ACPnjm1h0TCDreRxYkiapgTyeW3'\n",
    "access_token = '1372444419073351682-Cwh5Pzh8nC8YzxHGDiOK5MAuHjByx7'\n",
    "access_token_secret = '1fwg8XaNDCtTaT1yLwolRFaQzluhb6EHt7ZJGrs4AlrWN'\n",
    "\n",
    "auth = tw.OAuthHandler(consumer_key, consumer_secret)\n",
    "auth.set_access_token(access_token, access_token_secret)\n",
    "api = tw.API(auth, wait_on_rate_limit=True)"
   ]
  },
  {
   "cell_type": "code",
   "execution_count": 30,
   "id": "stone-mediterranean",
   "metadata": {},
   "outputs": [
    {
     "data": {
      "text/plain": [
       "'\\n# Iterate and print tweets\\nfor tweet in tweets:\\n    print(tweet.text)\\n'"
      ]
     },
     "execution_count": 30,
     "metadata": {},
     "output_type": "execute_result"
    }
   ],
   "source": [
    "# collect tweets\n",
    "\n",
    "search_words = 'Biden'\n",
    "date_since = '2021-01-01'\n",
    "\n",
    "tweets = tw.Cursor(api.search,\n",
    "                  q=search_words,\n",
    "                  lang=\"en\",\n",
    "                  since=date_since).items(10)\n",
    "\n",
    "\n",
    "tweets_list = [[tweet.text, tweet.created_at, tweet.retweet_count, tweet.favorite_count] for tweet in tweets]\n",
    "tweets_df = pd.DataFrame(tweets_list) # , columns=['Tweet Text', 'Tweet Datetime', 'Retweets', 'Favorites']\n",
    "\n",
    "'''\n",
    "# Iterate and print tweets\n",
    "for tweet in tweets:\n",
    "    print(tweet.text)\n",
    "'''"
   ]
  },
  {
   "cell_type": "code",
   "execution_count": 32,
   "id": "sitting-deviation",
   "metadata": {},
   "outputs": [
    {
     "data": {
      "text/html": [
       "<div>\n",
       "<style scoped>\n",
       "    .dataframe tbody tr th:only-of-type {\n",
       "        vertical-align: middle;\n",
       "    }\n",
       "\n",
       "    .dataframe tbody tr th {\n",
       "        vertical-align: top;\n",
       "    }\n",
       "\n",
       "    .dataframe thead th {\n",
       "        text-align: right;\n",
       "    }\n",
       "</style>\n",
       "<table border=\"1\" class=\"dataframe\">\n",
       "  <thead>\n",
       "    <tr style=\"text-align: right;\">\n",
       "      <th></th>\n",
       "      <th>0</th>\n",
       "      <th>1</th>\n",
       "      <th>2</th>\n",
       "      <th>3</th>\n",
       "    </tr>\n",
       "  </thead>\n",
       "  <tbody>\n",
       "    <tr>\n",
       "      <th>0</th>\n",
       "      <td>RT @thehill: NEW POLL: Biden approval rating o...</td>\n",
       "      <td>2021-03-29 03:26:13</td>\n",
       "      <td>407</td>\n",
       "      <td>0</td>\n",
       "    </tr>\n",
       "    <tr>\n",
       "      <th>1</th>\n",
       "      <td>RT @Politics_PR: 'Double Down': Swing-District...</td>\n",
       "      <td>2021-03-29 03:26:12</td>\n",
       "      <td>1</td>\n",
       "      <td>0</td>\n",
       "    </tr>\n",
       "    <tr>\n",
       "      <th>2</th>\n",
       "      <td>RT @daveweigel: I’ve never figured out where t...</td>\n",
       "      <td>2021-03-29 03:26:12</td>\n",
       "      <td>748</td>\n",
       "      <td>0</td>\n",
       "    </tr>\n",
       "    <tr>\n",
       "      <th>3</th>\n",
       "      <td>RT @HeyTammyBruce: Another Harris-Biden catast...</td>\n",
       "      <td>2021-03-29 03:26:12</td>\n",
       "      <td>1205</td>\n",
       "      <td>0</td>\n",
       "    </tr>\n",
       "    <tr>\n",
       "      <th>4</th>\n",
       "      <td>RT @mccaffreyr3: @AP Very sad, disorganized, a...</td>\n",
       "      <td>2021-03-29 03:26:11</td>\n",
       "      <td>843</td>\n",
       "      <td>0</td>\n",
       "    </tr>\n",
       "    <tr>\n",
       "      <th>5</th>\n",
       "      <td>@DialecticalP I voted for both Bernie (in 2016...</td>\n",
       "      <td>2021-03-29 03:26:11</td>\n",
       "      <td>0</td>\n",
       "      <td>0</td>\n",
       "    </tr>\n",
       "    <tr>\n",
       "      <th>6</th>\n",
       "      <td>RT @AnneElizabethUS: Gov. DeSantis is standing...</td>\n",
       "      <td>2021-03-29 03:26:11</td>\n",
       "      <td>131</td>\n",
       "      <td>0</td>\n",
       "    </tr>\n",
       "    <tr>\n",
       "      <th>7</th>\n",
       "      <td>RT @logicalindianz: But Modi sent a Military A...</td>\n",
       "      <td>2021-03-29 03:26:11</td>\n",
       "      <td>1</td>\n",
       "      <td>0</td>\n",
       "    </tr>\n",
       "    <tr>\n",
       "      <th>8</th>\n",
       "      <td>RT @Donadeedooda: I can’t believe Biden won this.</td>\n",
       "      <td>2021-03-29 03:26:10</td>\n",
       "      <td>73</td>\n",
       "      <td>0</td>\n",
       "    </tr>\n",
       "    <tr>\n",
       "      <th>9</th>\n",
       "      <td>RT @newsmax: Biden owes border officials an ap...</td>\n",
       "      <td>2021-03-29 03:26:10</td>\n",
       "      <td>298</td>\n",
       "      <td>0</td>\n",
       "    </tr>\n",
       "  </tbody>\n",
       "</table>\n",
       "</div>"
      ],
      "text/plain": [
       "                                                   0                   1  \\\n",
       "0  RT @thehill: NEW POLL: Biden approval rating o... 2021-03-29 03:26:13   \n",
       "1  RT @Politics_PR: 'Double Down': Swing-District... 2021-03-29 03:26:12   \n",
       "2  RT @daveweigel: I’ve never figured out where t... 2021-03-29 03:26:12   \n",
       "3  RT @HeyTammyBruce: Another Harris-Biden catast... 2021-03-29 03:26:12   \n",
       "4  RT @mccaffreyr3: @AP Very sad, disorganized, a... 2021-03-29 03:26:11   \n",
       "5  @DialecticalP I voted for both Bernie (in 2016... 2021-03-29 03:26:11   \n",
       "6  RT @AnneElizabethUS: Gov. DeSantis is standing... 2021-03-29 03:26:11   \n",
       "7  RT @logicalindianz: But Modi sent a Military A... 2021-03-29 03:26:11   \n",
       "8  RT @Donadeedooda: I can’t believe Biden won this. 2021-03-29 03:26:10   \n",
       "9  RT @newsmax: Biden owes border officials an ap... 2021-03-29 03:26:10   \n",
       "\n",
       "      2  3  \n",
       "0   407  0  \n",
       "1     1  0  \n",
       "2   748  0  \n",
       "3  1205  0  \n",
       "4   843  0  \n",
       "5     0  0  \n",
       "6   131  0  \n",
       "7     1  0  \n",
       "8    73  0  \n",
       "9   298  0  "
      ]
     },
     "metadata": {},
     "output_type": "display_data"
    }
   ],
   "source": [
    "display(tweets_df)"
   ]
  },
  {
   "cell_type": "code",
   "execution_count": 29,
   "id": "front-pension",
   "metadata": {},
   "outputs": [],
   "source": [
    "for i in tweets:\n",
    "    print(i.text)"
   ]
  },
  {
   "cell_type": "code",
   "execution_count": 25,
   "id": "recent-israeli",
   "metadata": {},
   "outputs": [
    {
     "data": {
      "text/plain": [
       "[]"
      ]
     },
     "execution_count": 25,
     "metadata": {},
     "output_type": "execute_result"
    }
   ],
   "source": [
    "tweets_list = [tweet.text for tweet in tweets]\n",
    "tweets_list"
   ]
  },
  {
   "cell_type": "code",
   "execution_count": 11,
   "id": "conservative-numbers",
   "metadata": {},
   "outputs": [
    {
     "data": {
      "text/html": [
       "<div>\n",
       "<style scoped>\n",
       "    .dataframe tbody tr th:only-of-type {\n",
       "        vertical-align: middle;\n",
       "    }\n",
       "\n",
       "    .dataframe tbody tr th {\n",
       "        vertical-align: top;\n",
       "    }\n",
       "\n",
       "    .dataframe thead th {\n",
       "        text-align: right;\n",
       "    }\n",
       "</style>\n",
       "<table border=\"1\" class=\"dataframe\">\n",
       "  <thead>\n",
       "    <tr style=\"text-align: right;\">\n",
       "      <th></th>\n",
       "    </tr>\n",
       "  </thead>\n",
       "  <tbody>\n",
       "  </tbody>\n",
       "</table>\n",
       "</div>"
      ],
      "text/plain": [
       "Empty DataFrame\n",
       "Columns: []\n",
       "Index: []"
      ]
     },
     "metadata": {},
     "output_type": "display_data"
    }
   ],
   "source": [
    "tweets_list = [[tweet.text, tweet.created_at, tweet.retweet_count, tweet.favorite_count] for tweet in tweets]\n",
    "tweets_df = pd.DataFrame(tweets_list) # , columns=['Tweet Text', 'Tweet Datetime', 'Retweets', 'Favorites']\n",
    "\n",
    "display(tweets_df)"
   ]
  }
 ],
 "metadata": {
  "kernelspec": {
   "display_name": "Python 3",
   "language": "python",
   "name": "python3"
  },
  "language_info": {
   "codemirror_mode": {
    "name": "ipython",
    "version": 3
   },
   "file_extension": ".py",
   "mimetype": "text/x-python",
   "name": "python",
   "nbconvert_exporter": "python",
   "pygments_lexer": "ipython3",
   "version": "3.8.8"
  }
 },
 "nbformat": 4,
 "nbformat_minor": 5
}
